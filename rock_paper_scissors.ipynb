{
 "cells": [
  {
   "cell_type": "code",
   "execution_count": 12,
   "id": "10b79c82-f754-420a-81fe-cf398250a083",
   "metadata": {},
   "outputs": [
    {
     "name": "stdin",
     "output_type": "stream",
     "text": [
      "Rock, Paper, Scissors? (r/p/s):  r\n"
     ]
    },
    {
     "name": "stdout",
     "output_type": "stream",
     "text": [
      "You chose r\n",
      "Computer chose s\n",
      "You win!\n"
     ]
    },
    {
     "name": "stdin",
     "output_type": "stream",
     "text": [
      "Do you want to continue? (y/n):  n\n"
     ]
    },
    {
     "name": "stdout",
     "output_type": "stream",
     "text": [
      "Thank you for playing!\n"
     ]
    }
   ],
   "source": [
    "import random\n",
    "\n",
    "choices = ('r', 'p', 's')\n",
    "\n",
    "while True:\n",
    "    user_choices = input(\"Rock, Paper, Scissors? (r/p/s): \").lower()\n",
    "    if user_choices not in choices:\n",
    "        print(\"Invalid choice. Please choose r, p, or s.\")\n",
    "        continue\n",
    "\n",
    "    computer_choice = random.choice(choices)\n",
    "\n",
    "    print(f\"You chose {user_choices}\")\n",
    "    print(f\"Computer chose {computer_choice}\")\n",
    "\n",
    "    if user_choices == computer_choice:\n",
    "        print(\"It's a draw!\")\n",
    "    elif (\n",
    "        (user_choices == \"r\" and computer_choice == \"s\") or \n",
    "        (user_choices == \"s\" and computer_choice == \"p\") or \n",
    "        (user_choices == \"p\" and computer_choice == \"r\")\n",
    "    ):\n",
    "        print(\"You win!\")\n",
    "    else:\n",
    "        print(\"You lose!\")\n",
    "\n",
    "    should_cont = input(\"Do you want to continue? (y/n): \").lower()\n",
    "    if should_cont == \"n\":\n",
    "        print(\"Thank you for playing!\")\n",
    "        break\n"
   ]
  },
  {
   "cell_type": "code",
   "execution_count": null,
   "id": "40dcde3a-1064-48dc-8ad1-2dcbdd316b52",
   "metadata": {},
   "outputs": [],
   "source": []
  }
 ],
 "metadata": {
  "kernelspec": {
   "display_name": "Python 3 (ipykernel)",
   "language": "python",
   "name": "python3"
  },
  "language_info": {
   "codemirror_mode": {
    "name": "ipython",
    "version": 3
   },
   "file_extension": ".py",
   "mimetype": "text/x-python",
   "name": "python",
   "nbconvert_exporter": "python",
   "pygments_lexer": "ipython3",
   "version": "3.12.7"
  }
 },
 "nbformat": 4,
 "nbformat_minor": 5
}
